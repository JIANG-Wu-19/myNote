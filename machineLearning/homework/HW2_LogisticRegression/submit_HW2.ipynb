{
 "cells": [
  {
   "cell_type": "markdown",
   "id": "bfe1b607",
   "metadata": {},
   "source": [
    "# 逻辑回归\n",
    "## 任务一"
   ]
  },
  {
   "cell_type": "code",
   "execution_count": 1,
   "id": "e8dea94a",
   "metadata": {},
   "outputs": [
    {
     "data": {
      "text/plain": [
       "(28282, 106)"
      ]
     },
     "execution_count": 1,
     "metadata": {},
     "output_type": "execute_result"
    }
   ],
   "source": [
    "import numpy as np \n",
    "from matplotlib import pyplot as plt\n",
    "\n",
    "def getdata(X_train,Y_train):\n",
    "    X = np.genfromtxt(X_train,delimiter=',',skip_header=1) #32561个样本*106个特征\n",
    "    Y = np.genfromtxt(Y_train,delimiter=',',skip_header=1) #32561个label\n",
    "    return X,Y\n",
    "\n",
    "def shuffle(X,Y):\n",
    "    #打乱X,Y,避免数据存在初始的排序，影响训练效果\n",
    "    randomize = np.arange(len(X)) #不同的库用的不太一样，返回的对象也不太一样。python自带的range()不支持numpy的shuffle\n",
    "    np.random.shuffle(randomize)\n",
    "    return (X[randomize], Y[randomize]) #ndarray的参数是数组时，返回一个依参数排序后的数组    \n",
    "\n",
    "def train_test_split(X, Y, test_size=0.1314):\n",
    "    #按一个比例分出一部分验证集\n",
    "    train_len = int(round(len(X)*(1-test_size)))\n",
    "    return X[0:train_len], Y[0:train_len], X[train_len:None], Y[train_len:None]\n",
    "\n",
    "X,Y = getdata('X_train','Y_train')\n",
    "X, Y, X_test, Y_test = train_test_split(X, Y)\n",
    "\n",
    "X.shape "
   ]
  },
  {
   "cell_type": "markdown",
   "id": "ac5c2366",
   "metadata": {},
   "source": [
    "## 任务二"
   ]
  },
  {
   "cell_type": "code",
   "execution_count": 2,
   "id": "05a57029",
   "metadata": {},
   "outputs": [
    {
     "data": {
      "text/plain": [
       "array([[ 0.02997349, -1.06586717,  1.        ,  0.14215522, -0.21607549,\n",
       "        -0.03383413,  0.        , -0.26256323,  0.        ,  0.        ,\n",
       "        -0.1885562 ,  0.        ,  4.9041296 ,  0.        ,  0.        ,\n",
       "         0.        ,  0.        ,  0.        ,  0.        ,  0.        ,\n",
       "         0.        ,  0.        ,  0.        ,  0.        ,  1.        ,\n",
       "        -0.11434365, -0.69111392, -0.23540742, -0.03992059,  0.        ,\n",
       "         0.        ,  0.        ,  0.        ,  0.        ,  0.        ,\n",
       "         1.        ,  0.        ,  0.        ,  1.        ,  0.        ,\n",
       "         0.        ,  0.        ,  0.        ,  0.        ,  0.        ,\n",
       "         0.        ,  0.        ,  0.        ,  0.        ,  0.        ,\n",
       "         0.        ,  0.        ,  0.        ,  0.        ,  1.        ,\n",
       "         0.        ,  0.        ,  0.        ,  0.        ,  0.        ,\n",
       "         0.        ,  0.        ,  0.        ,  1.        ,  0.        ,\n",
       "         0.        ,  0.        ,  0.        ,  0.        ,  0.        ,\n",
       "         0.        ,  0.        ,  0.        ,  0.        ,  0.        ,\n",
       "         0.        ,  0.        ,  0.        ,  0.        ,  0.        ,\n",
       "         0.        ,  0.        ,  0.        ,  0.        ,  0.        ,\n",
       "         0.        ,  0.        ,  0.        ,  0.        ,  0.        ,\n",
       "         0.        ,  0.        ,  0.        ,  0.        ,  0.        ,\n",
       "         0.        ,  0.        ,  0.        ,  0.        ,  0.        ,\n",
       "         0.        ,  0.        ,  1.        ,  0.        ,  0.        ,\n",
       "         0.        ]])"
      ]
     },
     "execution_count": 2,
     "metadata": {},
     "output_type": "execute_result"
    }
   ],
   "source": [
    "def normalization(X):\n",
    "    \"\"\"将X中的数据映射到0-1之间\n",
    "    参数：\n",
    "        X:数据\n",
    "    返回：\n",
    "        归一化之后的X\n",
    "    注意：\n",
    "        测试在只归一化0,1,3,4,5,7,10,12,25,26,27,28列特征时，效果会比较好\n",
    "        具体原因可探讨\n",
    "    \"\"\"    \n",
    "    ### START THE CODE ###\n",
    "\n",
    "    for i in [0,1,3,4,5,7,10,12,25,26,27,28]:\n",
    "        X_mean=np.mean(X[:,i],axis=0)\n",
    "        X_std=np.std(X[:,i],axis=0)\n",
    "        X[:,i]=(X[:,i]-X_mean)/X_std\n",
    "    \n",
    "    ### END THE CODE ###\n",
    "    \n",
    "    return X\n",
    "\n",
    "X = normalization(X)\n",
    "X_test = normalization(X_test)\n",
    "X[:1]"
   ]
  },
  {
   "cell_type": "markdown",
   "id": "f29e1fe6",
   "metadata": {},
   "source": [
    "## 任务三"
   ]
  },
  {
   "cell_type": "code",
   "execution_count": 3,
   "id": "bc2d4f29",
   "metadata": {},
   "outputs": [
    {
     "data": {
      "text/plain": [
       "0.6224593312018546"
      ]
     },
     "execution_count": 3,
     "metadata": {},
     "output_type": "execute_result"
    }
   ],
   "source": [
    "def sigmoid(z):\n",
    "    \"\"\"\n",
    "    参数：\n",
    "        z\n",
    "    返回：\n",
    "        sigmoid(z)\n",
    "    \"\"\"   \n",
    "    ### START THE CODE ###\n",
    "    \n",
    "    s=1/(1+np.exp(-z))\n",
    "    \n",
    "    ### END THE CODE ###\n",
    "    \n",
    "    return np.clip(s, 1e-6, 1-1e-6)\n",
    "    #clip:重要的处理，将超出范围的值强制置为边界值，避免y_pred为0，从而导致下面交叉熵损失无法计算\n",
    "    #aeN: a*10的N次方\n",
    "    \n",
    "sigmoid(0.5)"
   ]
  },
  {
   "cell_type": "markdown",
   "id": "2411008c",
   "metadata": {},
   "source": [
    "## 任务四"
   ]
  },
  {
   "cell_type": "code",
   "execution_count": 4,
   "id": "ff75472b",
   "metadata": {},
   "outputs": [
    {
     "data": {
      "text/plain": [
       "0.7541046886308893"
      ]
     },
     "execution_count": 4,
     "metadata": {},
     "output_type": "execute_result"
    }
   ],
   "source": [
    "def cost(y_pred, y_label, m):\n",
    "    \"\"\"代价函数，这里计算的是所有样本损失函数的和\n",
    "    参数：\n",
    "        y_pred：模型预测的值\n",
    "        y_label：数据实际标签的值\n",
    "        m：数据的样本数\n",
    "    返回：\n",
    "        cst: 预测值同标签值之间的代价\n",
    "    \"\"\"   \n",
    "    ### START THE CODE ###\n",
    "    \n",
    "    cst=-np.sum(y_label*np.log(y_pred)+(1-y_label)*np.log(1-y_pred))/m\n",
    "    \n",
    "    ### END THE CODE ###\n",
    "    \n",
    "    return cst\n",
    "\n",
    "cost(0.4,0.6,1) #numpy的log以e为底"
   ]
  },
  {
   "cell_type": "markdown",
   "id": "3f161be7",
   "metadata": {},
   "source": [
    "## 任务五"
   ]
  },
  {
   "cell_type": "code",
   "execution_count": 5,
   "id": "a7f4d4ed",
   "metadata": {},
   "outputs": [
    {
     "data": {
      "text/plain": [
       "array([0.58661758])"
      ]
     },
     "execution_count": 5,
     "metadata": {},
     "output_type": "execute_result"
    }
   ],
   "source": [
    "def predict(X, theta, theta_0):\n",
    "    \"\"\"预测\n",
    "    参数：\n",
    "        X：样本特征\n",
    "        theta：权重参数 \n",
    "        theta_0: 偏置参数\n",
    "    返回：\n",
    "        Y_pred: 样本的预测值 0~1\n",
    "    \"\"\"      \n",
    "    ### START THE CODE ###\n",
    "    \n",
    "    theta=np.array(theta)\n",
    "    Y_pred=sigmoid(np.dot(X,theta)+theta_0)\n",
    "    \n",
    "    ### END THE CODE ###\n",
    "    \n",
    "    return Y_pred\n",
    "\n",
    "def accuracy(Y_hat, Y_label):\n",
    "    \"\"\"准确率\n",
    "    参数：\n",
    "        Y_hat：样本最终分类 0 or 1\n",
    "        Y_label：样本标签\n",
    "    返回：\n",
    "        acc: 分类准确率\n",
    "    \"\"\"      \n",
    "    ### START THE CODE ###\n",
    "    \n",
    "    acc=np.sum(Y_hat==Y_label)/len(Y_label)\n",
    "    \n",
    "    ### END THE CODE ###\n",
    "    \n",
    "    return acc\n",
    "\n",
    "predict([0.4,0.8],[0.1,0.2],[0.15])"
   ]
  },
  {
   "cell_type": "markdown",
   "id": "159fde86",
   "metadata": {},
   "source": [
    "## 任务六"
   ]
  },
  {
   "cell_type": "code",
   "execution_count": 6,
   "id": "ce6e59a2",
   "metadata": {},
   "outputs": [
    {
     "data": {
      "text/plain": [
       "(array([0.20851115]), array([0.10851115]))"
      ]
     },
     "execution_count": 6,
     "metadata": {},
     "output_type": "execute_result"
    }
   ],
   "source": [
    "def gradient_descent(x_bt, y_bt, theta, theta_0, learning_rate):\n",
    "    \"\"\"用每次取出的一个batch的数据训练模型\n",
    "    参数：\n",
    "        x_bt:本次更新所用样本\n",
    "        y_bt:本次更新样本的标签\n",
    "        theta,theta_0：模型参数\n",
    "    返回:\n",
    "        theta:更新后的theta\n",
    "        theta_0:更新后的theta_0\n",
    "    过程：\n",
    "        用theta,theta_0进行一次预测\n",
    "        计算预测误差\n",
    "        计算theta, theta_0各自的梯度，取均值\n",
    "        用梯度更新theta_0和theta\n",
    "    \"\"\" \n",
    "    ### START THE CODE ###\n",
    "\n",
    "    pred_error=predict(x_bt,theta,theta_0)-y_bt\n",
    "    theta_grad=np.mean(np.dot(pred_error,x_bt),axis=0)\n",
    "    theta_0_grad=np.mean(pred_error)\n",
    "    theta=theta-learning_rate*theta_grad\n",
    "    theta_0=theta_0-learning_rate*theta_0_grad\n",
    "\n",
    "    ### END THE CODE ###\n",
    "    \n",
    "    return theta,theta_0\n",
    "\n",
    "gradient_descent(np.array([[1]]),np.array([1]),np.array([0.2]),np.array([0.1]),0.02)"
   ]
  },
  {
   "cell_type": "code",
   "execution_count": 7,
   "id": "58e9930a",
   "metadata": {},
   "outputs": [
    {
     "data": {
      "text/plain": [
       "80"
      ]
     },
     "execution_count": 7,
     "metadata": {},
     "output_type": "execute_result"
    }
   ],
   "source": [
    "#模型的基本参数：\n",
    "theta = np.zeros(X.shape[1],) #106个权重参数，初值全为0\n",
    "theta_0 = np.zeros(1,) #1个偏置参数，初值为0\n",
    "\n",
    "#训练参数\n",
    "max_iter = 80 #迭代次数\n",
    "batch_size = 32 #随机梯度下降中每次取样个数\n",
    "learning_rate = 0.02 #学习率，可以尝试不同的学习率，如0.2、0.002、0.0002\n",
    "num_train = len(Y)\n",
    "num_test = len(Y_test)\n",
    "\n",
    "\n",
    "def train(X, Y, theta, theta_0, max_iter, batch_size, learning_rate):\n",
    "    #用于记录训练中损失和准确率的变化\n",
    "    train_cost = []\n",
    "    test_cost = []\n",
    "    train_acc = []\n",
    "    test_acc = []\n",
    "\n",
    "    for epoch in range(max_iter):\n",
    "        X, Y = shuffle(X, Y) #随机打乱各行数据，这样参数不易陷入局部最优，模型能够更容易达到收敛。 \n",
    "        for i in range(int(np.floor(len(Y)/batch_size))): #每个batch更新一次\n",
    "            x_bt = X[i*batch_size:(i+1)*batch_size] #32个样本*106维\n",
    "            y_bt = Y[i*batch_size:(i+1)*batch_size] #32个label\n",
    "            \n",
    "            #每个batch的样本更新参数theta,theta_0\n",
    "            theta,theta_0 = gradient_descent(x_bt,y_bt,theta,theta_0,learning_rate)\n",
    "        \n",
    "        #记录每个epoch更新后，训练集上损失的变化和准确率的变化\n",
    "        Y_pred = predict(X, theta, theta_0)\n",
    "        Y_hat = np.round(Y_pred)\n",
    "        train_acc.append(accuracy(Y_hat, Y))\n",
    "        train_cost.append(cost(Y_pred, Y, num_train))\n",
    "        #记录每个epoch更新后，测试集上损失的变化和准确率的变化\n",
    "        Y_test_pred = predict(X_test, theta, theta_0)\n",
    "        Y_test_hat = np.round(Y_test_pred)\n",
    "        test_acc.append(accuracy(Y_test_hat, Y_test))\n",
    "        test_cost.append(cost(Y_test_pred, Y_test, num_test))\n",
    "        \n",
    "    return train_cost,test_cost,train_acc,test_acc\n",
    "        \n",
    "train_cost,test_cost,train_acc,test_acc = train(X, Y, theta, theta_0, max_iter, batch_size, learning_rate)      \n",
    "len(train_cost)"
   ]
  },
  {
   "cell_type": "markdown",
   "id": "1841f38f",
   "metadata": {},
   "source": [
    "## 任务七"
   ]
  },
  {
   "cell_type": "code",
   "execution_count": 8,
   "id": "aa0026ef",
   "metadata": {},
   "outputs": [
    {
     "data": {
      "image/png": "[encoded data removed]",
      "text/plain": [
       "<Figure size 640x480 with 2 Axes>"
      ]
     },
     "metadata": {},
     "output_type": "display_data"
    }
   ],
   "source": [
    "#子图1：损失\n",
    "p1 = plt.subplot(121)\n",
    "p1.plot(train_cost)\n",
    "p1.plot(test_cost)\n",
    "p1.legend(['train', 'test'])\n",
    "p1.set_title(\"cost\")\n",
    "\n",
    "#子图2，准确率\n",
    "p2 = plt.subplot(122)\n",
    "p2.plot(train_acc)\n",
    "p2.plot(test_acc)\n",
    "p2.legend(['train', 'test'])\n",
    "p2.set_title(\"accuracy\")\n",
    "plt.show()"
   ]
  },
  {
   "cell_type": "code",
   "execution_count": null,
   "id": "8515a38d",
   "metadata": {},
   "outputs": [],
   "source": []
  }
 ],
 "metadata": {
  "kernelspec": {
   "display_name": "Python 3 (ipykernel)",
   "language": "python",
   "name": "python3"
  },
  "language_info": {
   "codemirror_mode": {
    "name": "ipython",
    "version": 3
   },
   "file_extension": ".py",
   "mimetype": "text/x-python",
   "name": "python",
   "nbconvert_exporter": "python",
   "pygments_lexer": "ipython3",
   "version": "3.11.4"
  }
 },
 "nbformat": 4,
 "nbformat_minor": 5
}
